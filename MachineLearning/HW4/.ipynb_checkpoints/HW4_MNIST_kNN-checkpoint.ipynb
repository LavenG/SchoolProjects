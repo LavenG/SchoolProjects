{
 "cells": [
  {
   "cell_type": "markdown",
   "metadata": {},
   "source": [
    "# CSCI-UA 0473 - Introduction to Machine Learning\n",
    "## Wednesday, March 22, 2017"
   ]
  },
  {
   "cell_type": "markdown",
   "metadata": {},
   "source": [
    "## k-Nearest Neighbour - The Lazy Learner"
   ]
  },
  {
   "cell_type": "markdown",
   "metadata": {},
   "source": [
    "The task for this homework is again that of handwritten digit recognition on the MNIST dataset. From the huge corpus of 70k images, I have sampled 3k images uniformly i.e. there are 300 images in each class.\n",
    "\n",
    "I have split the 3k samples into training set (2500 points) and test set (500 points) randomly. This experimental dataset is the same for all and I have provided the pickle files with the corresponding data.\n",
    "\n",
    "In this homework, you will be experimenting with different distance functions and $k$. No complicated (or simple, for some) coding involved. Only play with the distance function and $k$.\n",
    "\n",
    "Conduct your experiments in a principled way to decide the best distance function according to you and the optimal value of $k$ for the best distance function. Use the accuracy score as the evaluation metric.\n",
    "\n",
    "Explain your approach clearly in the write-up.\n",
    "\n",
    "Report your experiment results using plots (preferably) or tables with the accuracies in the write-up.\n",
    "\n",
    "(EXTRA CREDITS) Come up with your own distance function, explain it clearly and provide the results from your distance function."
   ]
  },
  {
   "cell_type": "code",
   "execution_count": 25,
   "metadata": {},
   "outputs": [],
   "source": [
    "import numpy as np\n",
    "import pickle\n",
    "import random\n",
    "import pandas as pd\n",
    "import scipy.spatial.distance\n",
    "\n",
    "import matplotlib.pyplot as plt\n",
    "%matplotlib inline\n"
   ]
  },
  {
   "cell_type": "code",
   "execution_count": 26,
   "metadata": {},
   "outputs": [],
   "source": [
    "np.random.seed(1234)"
   ]
  },
  {
   "cell_type": "markdown",
   "metadata": {},
   "source": [
    "## 1. Data Preparation"
   ]
  },
  {
   "cell_type": "code",
   "execution_count": 27,
   "metadata": {},
   "outputs": [
    {
     "name": "stdout",
     "output_type": "stream",
     "text": [
      "('Training Data: ', (2500, 784))\n",
      "('Test Data: ', (500, 784))\n",
      "('Training Label Distribution: ', array([249, 253, 253, 246, 249, 248, 245, 244, 261, 252]))\n",
      "('Test Label Distribution: ', array([51, 47, 47, 54, 51, 52, 55, 56, 39, 48]))\n"
     ]
    }
   ],
   "source": [
    "training_data = pickle.load(open('training_data_hw4.p', 'rb'))\n",
    "training_labels = pickle.load(open('training_labels_hw4.p', 'rb'))\n",
    "\n",
    "test_data = pickle.load(open('test_data_hw4.p', 'rb'))\n",
    "test_labels = pickle.load(open('test_labels_hw4.p', 'rb'))\n",
    "\n",
    "\n",
    "print ('Training Data: ', training_data.shape)\n",
    "print ('Test Data: ', test_data.shape)\n",
    "\n",
    "print ('Training Label Distribution: ', np.bincount(training_labels))\n",
    "print ('Test Label Distribution: ', np.bincount(test_labels))"
   ]
  },
  {
   "cell_type": "code",
   "execution_count": 28,
   "metadata": {},
   "outputs": [
    {
     "data": {
      "text/plain": [
       "<matplotlib.image.AxesImage at 0x1066df5d0>"
      ]
     },
     "execution_count": 28,
     "metadata": {},
     "output_type": "execute_result"
    },
    {
     "data": {
      "image/png": "[encoded data removed]",
      "text/plain": [
       "<matplotlib.figure.Figure at 0x1066b4b90>"
      ]
     },
     "metadata": {},
     "output_type": "display_data"
    }
   ],
   "source": [
    "plt.imshow(training_data[100].reshape((28, 28)))"
   ]
  },
  {
   "cell_type": "markdown",
   "metadata": {},
   "source": [
    "## 2. Model Definition"
   ]
  },
  {
   "cell_type": "code",
   "execution_count": 47,
   "metadata": {
    "collapsed": true
   },
   "outputs": [],
   "source": [
    "def knn_classify(x_, x, y, metric='euclidean', k=1):\n",
    "    if len(x_.shape) < 2:\n",
    "        x_ = x_.reshape([1,-1])\n",
    "        \n",
    "    dists = scipy.spatial.distance.cdist(x_, x, metric)\n",
    "    \n",
    "    sidx = np.argpartition(dists, k, axis=1)[:,:k]\n",
    "    \n",
    "    y_ = np.zeros(len(x_))\n",
    "    for ii, xx_ in enumerate(x_):\n",
    "        yy_, yc_ = np.unique(y[sidx[ii,:]], return_counts=True)\n",
    "        y_[ii] = yy_[np.argmax(yc_)]\n",
    "        \n",
    "    return y_"
   ]
  },
  {
   "cell_type": "markdown",
   "metadata": {},
   "source": [
    "## 3. Modeling - Play Area - Experiment with different distance functions and k"
   ]
  },
  {
   "cell_type": "code",
   "execution_count": 58,
   "metadata": {},
   "outputs": [
    {
     "name": "stdout",
     "output_type": "stream",
     "text": [
      "Training accuracy 0.816, Test accuracy 0.792\n"
     ]
    }
   ],
   "source": [
    "k = 100\n",
    "metric = 'euclidean'\n",
    "\n",
    "tra_acc = np.sum(knn_classify(training_data, training_data, training_labels, metric, k) == training_labels) / np.float(len(training_labels))\n",
    "tes_acc = np.sum(knn_classify(test_data, training_data, training_labels, metric, k) == test_labels) / np.float(len(test_labels))\n",
    "\n",
    "print 'Training accuracy {}, Test accuracy {}'.format(tra_acc, tes_acc)"
   ]
  },
  {
   "cell_type": "markdown",
   "metadata": {},
   "source": [
    "## 4. Testing"
   ]
  },
  {
   "cell_type": "code",
   "execution_count": 97,
   "metadata": {},
   "outputs": [
    {
     "name": "stdout",
     "output_type": "stream",
     "text": [
      "Testing for distance\n",
      "Cosine: Training accuracy 0.856, Test accuracy 0.848\n",
      "Correlation: Training accuracy 0.854, Test accuracy 0.85\n",
      "Testing for k\n",
      "K set to square root: Training accuracy 0.9516, Test accuracy 0.946\n"
     ]
    }
   ],
   "source": [
    "# REPORT THE TEST ACCURACY USING YOUR EXPERIMENTAL SETUP\n",
    "\n",
    "#We first need to pick the best distance function while keeping k constant to compare the results.\n",
    "#Eucledian distance can be bad in high dimensional space because it can't recognize the difference\n",
    "#between the importance of certain points.\n",
    "\n",
    "#In this case cosine distance works better because it measures the similiarity\n",
    "#of vectors with respect to origin\n",
    "print 'Testing for distance'\n",
    "k = 100\n",
    "metric = 'cosine'\n",
    "\n",
    "tra_acc = np.sum(knn_classify(training_data, training_data, training_labels, metric, k) == training_labels) / np.float(len(training_labels))\n",
    "tes_acc = np.sum(knn_classify(test_data, training_data, training_labels, metric, k) == test_labels) / np.float(len(test_labels))\n",
    "\n",
    "print 'Cosine: Training accuracy {}, Test accuracy {}'.format(tra_acc, tes_acc)\n",
    "\n",
    "#We can see that cosine and correlation yield similar results from the test below and so do other\n",
    "#metrics such as sokalsneath \n",
    "\n",
    "k = 100\n",
    "metric = 'correlation'\n",
    "\n",
    "tra_acc = np.sum(knn_classify(training_data, training_data, training_labels, metric, k) == training_labels) / np.float(len(training_labels))\n",
    "tes_acc = np.sum(knn_classify(test_data, training_data, training_labels, metric, k) == test_labels) / np.float(len(test_labels))\n",
    "\n",
    "print 'Correlation: Training accuracy {}, Test accuracy {}'.format(tra_acc, tes_acc)\n",
    "\n",
    "print 'Testing for k'\n",
    "#We now want to pick the best k, we will go on with cosine distance from now on\n",
    "# We want to choose k large enough to make sure that the noise in the data doesn't distrupt the result\n",
    "# but also small enoguh so that we don't want to begin considering the other classes as a neighbor.\n",
    "#Normally setting k equal to the square root of the size of the set is a good start. In this case\n",
    "#by incrementally decreasing k, I found that 4 was the best balance between training and test accuracy\n",
    "k = 4\n",
    "metric = 'cosine'\n",
    "\n",
    "tra_acc = np.sum(knn_classify(training_data, training_data, training_labels, metric, k) == training_labels) / np.float(len(training_labels))\n",
    "tes_acc = np.sum(knn_classify(test_data, training_data, training_labels, metric, k) == test_labels) / np.float(len(test_labels))\n",
    "\n",
    "print 'K set to square root: Training accuracy {}, Test accuracy {}'.format(tra_acc, tes_acc)"
   ]
  },
  {
   "cell_type": "code",
   "execution_count": null,
   "metadata": {
    "collapsed": true
   },
   "outputs": [],
   "source": [
    "acy 0.8932, Test accuracy 0.906"
   ]
  }
 ],
 "metadata": {
  "anaconda-cloud": {},
  "kernelspec": {
   "display_name": "Python 2",
   "language": "python",
   "name": "python2"
  },
  "language_info": {
   "codemirror_mode": {
    "name": "ipython",
    "version": 2
   },
   "file_extension": ".py",
   "mimetype": "text/x-python",
   "name": "python",
   "nbconvert_exporter": "python",
   "pygments_lexer": "ipython2",
   "version": "2.7.13"
  }
 },
 "nbformat": 4,
 "nbformat_minor": 1
}
